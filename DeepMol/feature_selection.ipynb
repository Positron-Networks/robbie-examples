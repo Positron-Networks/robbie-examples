{
 "cells": [
  {
   "cell_type": "markdown",
   "metadata": {},
   "source": [
    "# Performing Feature Selection with DeepMol\n",
    "\n",
    "The selection of the most relevant features can significantly improve the performance of a machine learning model in chemoinformatics. By removing irrelevant or redundant features, feature selection can reduce overfitting and improve the model's ability to generalize to new data. Additionally, feature selection can reduce the computational burden of training a machine learning model by reducing the number of features that need to be processed."
   ]
  },
  {
   "cell_type": "markdown",
   "metadata": {},
   "source": [
    "DeepMol supports many types of feature selection provided by scikit-learn including Low Variance Feature Selection, KBest, Percentile, Recursive Feature Elimination and selecting features based on importance weights."
   ]
  },
  {
   "cell_type": "markdown",
   "metadata": {},
   "source": [
    "### Let's load our dataset with already computed features (2048 features)"
   ]
  },
  {
   "cell_type": "code",
   "execution_count": null,
   "metadata": {},
   "outputs": [],
   "source": [
    "import robbie\n",
    "robbie.init()"
   ]
  },
  {
   "cell_type": "code",
   "execution_count": null,
   "metadata": {
    "ExecuteTime": {
     "end_time": "2023-06-06T11:09:22.073576797Z",
     "start_time": "2023-06-06T11:09:21.392866923Z"
    }
   },
   "outputs": [],
   "source": [
    "from deepmol.splitters import SingletaskStratifiedSplitter\n",
    "from deepmol.loaders import CSVLoader\n",
    "\n",
    "# Load data from CSV file\n",
    "loader = CSVLoader(dataset_path='./data/CHEMBL217_reduced.csv',\n",
    "                   smiles_field='mols',\n",
    "                   id_field='ids',\n",
    "                   labels_fields=['y'],\n",
    "                   features_fields=[f'feat_{i+1}' for i in range(2048)],\n",
    "                   shard_size=500,\n",
    "                   mode='auto')\n",
    "# create the dataset\n",
    "csv_dataset = loader.create_dataset(sep=',', header=0)\n",
    "csv_dataset.get_shape()\n",
    "splitter = SingletaskStratifiedSplitter()\n",
    "train_dataset, valid_dataset, test_dataset = splitter.train_valid_test_split(csv_dataset, frac_train=0.8, frac_valid=0.1, frac_test=0.1)"
   ]
  },
  {
   "cell_type": "markdown",
   "metadata": {},
   "source": [
    "### Let's use the LowVarianceFS feature selector\n",
    "\n",
    "Low variance feature selection is a technique used to select features in a dataset that have little or no variability across the data. This method is based on the assumption that features with low variance have little impact on the model's predictive ability and can be safely removed.\n",
    "\n",
    "To apply low variance feature selection, one first calculates the variance of each feature across the entire dataset. The features with variance below a certain threshold are then removed from the dataset, typically by setting a minimum variance threshold or using a percentile of variance. The threshold value is usually determined by trial and error or through cross-validation."
   ]
  },
  {
   "cell_type": "code",
   "execution_count": null,
   "metadata": {
    "ExecuteTime": {
     "end_time": "2023-06-06T11:09:28.759522626Z",
     "start_time": "2023-06-06T11:09:28.653108269Z"
    }
   },
   "outputs": [],
   "source": [
    "from copy import deepcopy\n",
    "from deepmol.feature_selection import LowVarianceFS\n",
    "\n",
    "# make a copy of our dataset\n",
    "train_dataset_low_variance_fs = deepcopy(train_dataset)\n",
    "test_dataset_low_variance_fs = deepcopy(test_dataset)\n",
    "\n",
    "# instantiate our feature selector\n",
    "fs = LowVarianceFS(threshold=0.15)\n",
    "# perform feature selection\n",
    "fs.fit_transform(train_dataset_low_variance_fs)\n",
    "fs.transform(test_dataset_low_variance_fs)\n",
    "\n",
    "train_dataset_low_variance_fs.get_shape()\n",
    "test_dataset_low_variance_fs.get_shape()"
   ]
  },
  {
   "cell_type": "markdown",
   "metadata": {
    "ExecuteTime": {
     "end_time": "2023-06-02T14:30:46.033777492Z",
     "start_time": "2023-06-02T14:30:46.030141074Z"
    }
   },
   "source": [
    "### Let's use the KbestFS feature selector\n",
    "\n",
    "SelectKBest is a feature selection algorithm in machine learning that selects the top k features with the highest predictive power from a given dataset. This algorithm works by scoring each feature and selecting the top k features based on their scores.\n",
    "\n",
    "The score of each feature is determined using a statistical test, such as the chi-squared test, mutual information, or ANOVA F-test, depending on the nature of the dataset and the problem being solved. The algorithm computes a score for each feature, ranking them in descending order. It then selects the top k features with the highest scores and discards the rest.\n",
    "\n",
    "The purpose of feature selection is to improve the model's performance by reducing the number of irrelevant or redundant features. Selecting only the most relevant features can help to reduce overfitting, increase model interpretability, and reduce computational costs."
   ]
  },
  {
   "cell_type": "code",
   "execution_count": null,
   "metadata": {
    "ExecuteTime": {
     "end_time": "2023-06-02T14:55:26.161157696Z",
     "start_time": "2023-06-02T14:55:26.058944660Z"
    }
   },
   "outputs": [],
   "source": [
    "from sklearn.feature_selection import chi2\n",
    "from deepmol.feature_selection import KbestFS\n",
    "\n",
    "# make a copy of our dataset\n",
    "train_dataset_kbest_fs = deepcopy(train_dataset)\n",
    "test_dataset_kbest_fs = deepcopy(test_dataset)\n",
    "\n",
    "fs = KbestFS(k=250, score_func=chi2) # the top k features with the highest predictive power will be kept\n",
    "# perform feature selection\n",
    "\n",
    "fs.fit_transform(train_dataset_kbest_fs)\n",
    "fs.transform(test_dataset_kbest_fs)\n",
    "\n",
    "train_dataset_kbest_fs.get_shape()\n",
    "test_dataset_kbest_fs.get_shape()"
   ]
  },
  {
   "cell_type": "markdown",
   "metadata": {
    "ExecuteTime": {
     "end_time": "2023-06-02T14:30:48.852702689Z",
     "start_time": "2023-06-02T14:30:48.759461383Z"
    }
   },
   "source": [
    "### Let's use the PercentilFS feature selector\n",
    "\n",
    "SelectPercentile is a feature selection algorithm in machine learning that selects the top features based on their statistical scores, similar to SelectKBest. However, instead of selecting a fixed number of features, SelectPercentile selects a percentage of the most informative features from a given dataset.\n",
    "\n",
    "The main advantage of SelectPercentile over SelectKBest is that it adapts to datasets of different sizes, so it can select an appropriate number of features for datasets with different numbers of features."
   ]
  },
  {
   "cell_type": "code",
   "execution_count": null,
   "metadata": {
    "ExecuteTime": {
     "end_time": "2023-06-02T14:55:26.292289984Z",
     "start_time": "2023-06-02T14:55:26.161548785Z"
    }
   },
   "outputs": [],
   "source": [
    "from deepmol.feature_selection import PercentilFS\n",
    "\n",
    "# make a copy of our dataset\n",
    "train_dataset_percentil_fs = deepcopy(train_dataset)\n",
    "test_dataset_percentil_fs = deepcopy(test_dataset)\n",
    "\n",
    "fs = PercentilFS(percentil=10, score_func=chi2) # keep the 10 percent top predictive features\n",
    "fs.fit_transform(train_dataset_percentil_fs)\n",
    "fs.transform(test_dataset_percentil_fs)\n",
    "\n",
    "train_dataset_percentil_fs.get_shape()\n",
    "test_dataset_percentil_fs.get_shape()"
   ]
  },
  {
   "cell_type": "markdown",
   "metadata": {
    "ExecuteTime": {
     "end_time": "2023-06-02T14:19:35.843608100Z",
     "start_time": "2023-06-02T14:19:35.721949996Z"
    }
   },
   "source": [
    "### Let's use the RFECVFS feature selector\n",
    "\n",
    "Recursive Feature Elimination with Cross-Validation (RFECV) is a feature selection algorithm in machine learning that selects the most informative subset of features from a given dataset by iteratively eliminating the least important features.\n",
    "\n",
    "RFECV uses a machine learning model (e.g., linear regression, logistic regression, or support vector machine) to rank the importance of each feature in the dataset. It then eliminates the feature with the lowest importance score, re-evaluates the performance of the model, and repeats the process until a specified number of features is reached.\n",
    "\n",
    "The cross-validation (CV) component of RFECV involves dividing the dataset into k-folds, training the model on k-1 folds, and evaluating it on the remaining fold. This process is repeated k times, with each fold serving as the test set once. The performance of the model is then averaged over the k-folds, providing a more reliable estimate of model performance."
   ]
  },
  {
   "cell_type": "code",
   "execution_count": null,
   "metadata": {
    "ExecuteTime": {
     "end_time": "2023-06-02T14:56:08.634387880Z",
     "start_time": "2023-06-02T14:55:26.250532855Z"
    }
   },
   "outputs": [],
   "source": [
    "from sklearn.ensemble import RandomForestClassifier\n",
    "from deepmol.feature_selection import RFECVFS\n",
    "\n",
    "train_dataset_RFECVFS = deepcopy(train_dataset)\n",
    "test_dataset_RFECVFS = deepcopy(test_dataset)\n",
    "\n",
    "fs = RFECVFS(estimator=RandomForestClassifier(n_jobs=-1), # model to use\n",
    "             step=10, # number of features to remove at each step\n",
    "             min_features_to_select=1024, # minimum number of feature to keep (it can have more than that but never less)\n",
    "             cv=2, # number of folds in the cross validation\n",
    "             verbose=3) # verbosity level\n",
    "\n",
    "fs.fit_transform(train_dataset_RFECVFS)\n",
    "fs.transform(test_dataset_RFECVFS)\n",
    "\n",
    "train_dataset_RFECVFS.get_shape()\n",
    "test_dataset_RFECVFS.get_shape()"
   ]
  },
  {
   "cell_type": "markdown",
   "metadata": {
    "ExecuteTime": {
     "end_time": "2023-06-02T13:27:32.427935736Z",
     "start_time": "2023-06-02T13:27:32.150830493Z"
    }
   },
   "source": [
    "### Let's use the SelectFromModelFS feature selector\n",
    "\n",
    "SelectFromModel is a feature selection algorithm in machine learning that selects the most informative subset of features from a given dataset based on the importance scores provided by a base estimator.\n",
    "\n",
    "The algorithm works by training a machine learning model, such as a decision tree, random forest, or support vector machine, on the entire dataset and computing the importance score for each feature. The importance score reflects the contribution of each feature to the performance of the model.\n",
    "\n",
    "SelectFromModel then selects the top features based on a threshold value specified by the user. The threshold value can be an absolute value or a percentile of the importance scores. Features with importance scores higher than the threshold value are retained, while those with scores lower than the threshold value are discarded."
   ]
  },
  {
   "cell_type": "code",
   "execution_count": null,
   "metadata": {
    "ExecuteTime": {
     "end_time": "2023-06-02T14:56:08.847203472Z",
     "start_time": "2023-06-02T14:56:08.637478119Z"
    }
   },
   "outputs": [],
   "source": [
    "from deepmol.feature_selection import SelectFromModelFS\n",
    "\n",
    "train_dataset_SelectFromModelFS = deepcopy(train_dataset)\n",
    "test_dataset_SelectFromModelFS = deepcopy(test_dataset)\n",
    "\n",
    "fs = SelectFromModelFS(estimator=RandomForestClassifier(n_jobs=-1), # model to use\n",
    "                       threshold=\"mean\") # Features whose importance is greater or equal are kept while the others are discarded. A percentil can also be used\n",
    "                                         # In this case (\"mean\") will keep the features with importance higher than the mean and remove the others\n",
    "fs.fit_transform(train_dataset_SelectFromModelFS)\n",
    "fs.transform(test_dataset_SelectFromModelFS)\n",
    "\n",
    "train_dataset_SelectFromModelFS.get_shape()\n",
    "test_dataset_SelectFromModelFS.get_shape()"
   ]
  },
  {
   "cell_type": "markdown",
   "metadata": {
    "ExecuteTime": {
     "end_time": "2023-06-02T13:29:55.683598440Z",
     "start_time": "2023-06-02T13:28:22.047986494Z"
    }
   },
   "source": [
    "### Let's use the BorutaAlgorithm feature selector\n",
    "\n",
    "The boruta algorithm works by comparing the importance of each feature in the original dataset with the importance of the same feature in a shuffled version of the dataset. If the importance of the feature in the original dataset is significantly higher than its importance in the shuffled dataset, the feature is deemed \"confirmed\" and is selected for the final feature subset.\n",
    "\n",
    "It iteratively adds and removes features from the confirmed set until all features have been evaluated. The final set of confirmed features is the one that has a statistically significant higher importance in the original dataset compared to the shuffled dataset.\n",
    "\n",
    "The advantage of Boruta is that it can capture complex relationships between features and identify interactions that may not be apparent in simpler feature selection methods. It can also handle missing values and noisy data, which can be challenging for other feature selection techniques."
   ]
  },
  {
   "cell_type": "code",
   "execution_count": null,
   "metadata": {
    "ExecuteTime": {
     "end_time": "2023-06-02T14:57:39.832096917Z",
     "start_time": "2023-06-02T14:56:08.849457520Z"
    }
   },
   "outputs": [],
   "source": [
    "from deepmol.feature_selection import BorutaAlgorithm\n",
    "\n",
    "train_dataset_boruta = deepcopy(train_dataset)\n",
    "test_dataset_boruta = deepcopy(test_dataset)\n",
    "\n",
    "fs = BorutaAlgorithm(estimator=RandomForestClassifier(n_jobs=-1), # model to use\n",
    "                     task='classification') # classification or regression\n",
    "\n",
    "fs.fit_transform(train_dataset_boruta)\n",
    "fs.transform(test_dataset_boruta)\n",
    "\n",
    "train_dataset_boruta.get_shape()\n",
    "test_dataset_boruta.get_shape()"
   ]
  }
 ],
 "metadata": {
  "kernelspec": {
   "display_name": "3.10.16",
   "language": "python",
   "name": "python3"
  },
  "language_info": {
   "codemirror_mode": {
    "name": "ipython",
    "version": 3
   },
   "file_extension": ".py",
   "mimetype": "text/x-python",
   "name": "python",
   "nbconvert_exporter": "python",
   "pygments_lexer": "ipython3",
   "version": "3.10.16"
  }
 },
 "nbformat": 4,
 "nbformat_minor": 4
}
