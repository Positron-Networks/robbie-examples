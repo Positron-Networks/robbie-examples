{
 "cells": [
  {
   "cell_type": "markdown",
   "id": "d354e847-a83c-4208-a478-f0b66d599101",
   "metadata": {},
   "source": [
    "# The %%robbie magic will execute the cell in the Robbie Cloud"
   ]
  },
  {
   "cell_type": "markdown",
   "id": "9ed49270-8cfd-4a04-833c-6301ba66cf91",
   "metadata": {},
   "source": [
    "First, install `robbie`:"
   ]
  },
  {
   "cell_type": "code",
   "execution_count": null,
   "id": "db504aa5-62c8-4900-b7e4-cb135a254c0e",
   "metadata": {},
   "outputs": [],
   "source": [
    "!pip install robbie"
   ]
  },
  {
   "cell_type": "markdown",
   "id": "4f74b72f-5ebb-4bf6-a8df-a8f65cce12c1",
   "metadata": {},
   "source": [
    "Load the `%%robbie` magic"
   ]
  },
  {
   "cell_type": "code",
   "execution_count": null,
   "id": "ea2840cf-ca65-4e32-9731-8c04976784ff",
   "metadata": {},
   "outputs": [],
   "source": [
    "%reload_ext robbie.magic"
   ]
  },
  {
   "cell_type": "markdown",
   "id": "01b8f2b8-7ac3-4228-a125-d658da511607",
   "metadata": {},
   "source": [
    "Executing the following cell may prompt you to log in to the Robbie portal. Robbie will analyze your jupyter environment, package up the cell code and jupyter context, and execute the code contained in the cell  in the Robbie Cloud.\n",
    "\n",
    "You will see the output of the job in the cell output.\n",
    "\n",
    "Note that stopping cell execution will **not** terminate your Robbie job, and may result in error messages in the cell. If you want to terminate your job, please do so in the Robbie portal: https://robbie.run/portal/app/my-runs"
   ]
  },
  {
   "cell_type": "code",
   "execution_count": null,
   "id": "6b288e54-18b6-4b1d-b032-63883f28a650",
   "metadata": {
    "scrolled": true
   },
   "outputs": [],
   "source": [
    "%%robbie\n",
    "\n",
    "a=10\n",
    "print(a)\n",
    "b=a*a"
   ]
  },
  {
   "cell_type": "markdown",
   "id": "fae098e5-255c-4245-84e3-5cf79f38d7cb",
   "metadata": {},
   "source": [
    "Notice that variables assigned in the code executed on Robbie are available to the notebook:"
   ]
  },
  {
   "cell_type": "code",
   "execution_count": null,
   "id": "ab80f381-b9b9-42a0-9d6b-9d06e4133acb",
   "metadata": {},
   "outputs": [],
   "source": [
    "print(b)"
   ]
  },
  {
   "cell_type": "markdown",
   "id": "edd6a50e-f3fa-4c21-800b-27b8ff515426",
   "metadata": {},
   "source": [
    "Another example:"
   ]
  },
  {
   "cell_type": "code",
   "execution_count": null,
   "id": "4e82c6fc-7609-408f-b624-34e957d585f0",
   "metadata": {},
   "outputs": [],
   "source": [
    "%%robbie\n",
    "import numpy as np\n",
    "a = np.array([[1, 0],\n",
    "             [0, 1]])\n",
    "b = np.array([1, 2])\n",
    "c = np.matmul(a, b)"
   ]
  },
  {
   "cell_type": "code",
   "execution_count": null,
   "id": "c9857fdd-5e44-45be-89b9-e1d087646f93",
   "metadata": {},
   "outputs": [],
   "source": [
    "print(c)"
   ]
  }
 ],
 "metadata": {
  "kernelspec": {
   "display_name": "Python 3 (ipykernel)",
   "language": "python",
   "name": "python3"
  },
  "language_info": {
   "codemirror_mode": {
    "name": "ipython",
    "version": 3
   },
   "file_extension": ".py",
   "mimetype": "text/x-python",
   "name": "python",
   "nbconvert_exporter": "python",
   "pygments_lexer": "ipython3",
   "version": "3.12.7"
  }
 },
 "nbformat": 4,
 "nbformat_minor": 5
}
