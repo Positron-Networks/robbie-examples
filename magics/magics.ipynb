{
 "cells": [
  {
   "cell_type": "code",
   "execution_count": null,
   "id": "b90a4a12-4301-4c22-bea4-9fab6c0f5c72",
   "metadata": {},
   "outputs": [],
   "source": [
    "!robbie login"
   ]
  },
  {
   "cell_type": "code",
   "execution_count": 1,
   "id": "ea2840cf-ca65-4e32-9731-8c04976784ff",
   "metadata": {},
   "outputs": [],
   "source": [
    "%reload_ext robbie.magic"
   ]
  },
  {
   "cell_type": "code",
   "execution_count": 2,
   "id": "d9925a3b-48e2-406e-9dcc-c0371e134d10",
   "metadata": {},
   "outputs": [],
   "source": [
    "a=10"
   ]
  },
  {
   "cell_type": "code",
   "execution_count": null,
   "id": "6b288e54-18b6-4b1d-b032-63883f28a650",
   "metadata": {
    "scrolled": true
   },
   "outputs": [],
   "source": [
    "%%robbie\n",
    "print(a)\n",
    "b=a*a"
   ]
  },
  {
   "cell_type": "code",
   "execution_count": null,
   "id": "ab80f381-b9b9-42a0-9d6b-9d06e4133acb",
   "metadata": {},
   "outputs": [],
   "source": [
    "print(b)"
   ]
  },
  {
   "cell_type": "code",
   "execution_count": null,
   "id": "4e82c6fc-7609-408f-b624-34e957d585f0",
   "metadata": {},
   "outputs": [],
   "source": [
    "%%robbie\n",
    "import numpy as np\n",
    "a = np.array([[1, 0],\n",
    "             [0, 1]])\n",
    "b = np.array([1, 2])\n",
    "c = np.matmul(a, b)"
   ]
  },
  {
   "cell_type": "code",
   "execution_count": null,
   "id": "c9857fdd-5e44-45be-89b9-e1d087646f93",
   "metadata": {},
   "outputs": [],
   "source": [
    "print(c)\n",
    "print(np.mat"
   ]
  },
  {
   "cell_type": "code",
   "execution_count": null,
   "id": "278a240d-2f84-4a2d-b801-e1fc06f11f26",
   "metadata": {},
   "outputs": [],
   "source": []
  }
 ],
 "metadata": {
  "kernelspec": {
   "display_name": "Python 3 (ipykernel)",
   "language": "python",
   "name": "python3"
  },
  "language_info": {
   "codemirror_mode": {
    "name": "ipython",
    "version": 3
   },
   "file_extension": ".py",
   "mimetype": "text/x-python",
   "name": "python",
   "nbconvert_exporter": "python",
   "pygments_lexer": "ipython3",
   "version": "3.10.15"
  }
 },
 "nbformat": 4,
 "nbformat_minor": 5
}
